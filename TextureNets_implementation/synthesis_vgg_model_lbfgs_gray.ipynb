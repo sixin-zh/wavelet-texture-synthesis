{
 "cells": [
  {
   "cell_type": "code",
   "execution_count": 5,
   "metadata": {},
   "outputs": [
    {
     "name": "stdout",
     "output_type": "stream",
     "text": [
      "torch.Size([1, 256, 256])\n",
      "input_texture torch.Size([1, 256, 256])\n",
      "prep_std 1.2960850304198857\n",
      "input_torch torch.Size([1, 3, 256, 256])\n",
      "save to pdf file ./results_vgg_model_gray_size256/tur2a_im0\n"
     ]
    },
    {
     "data": {
      "image/png": "[encoded data removed]",
      "text/plain": [
       "<Figure size 72x72 with 1 Axes>"
      ]
     },
     "metadata": {
      "needs_background": "light"
     },
     "output_type": "display_data"
    }
   ],
   "source": [
    "# use L-BFGS on Gatys's VGG texture model\n",
    "#  (gray scale image input, with zero mean)\n",
    "\n",
    "import sys\n",
    "import datetime\n",
    "from shutil import copyfile\n",
    "import numpy as np\n",
    "import scipy.io as sio\n",
    "import math\n",
    "from PIL import Image\n",
    "import skimage.transform as sk\n",
    "#from tqdm import tqdm\n",
    "from tqdm.notebook import tqdm # trange\n",
    "from time import time\n",
    "\n",
    "import torch\n",
    "import torch.optim as optim\n",
    "import torch.nn as nn\n",
    "#from torch.autograd import Variable\n",
    "import torchvision\n",
    "from torchvision import transforms\n",
    "from utils_arch import VGG\n",
    "from utils_loss import GramMatrix, GramMSELoss\n",
    "from utils_plot import save2pdf_gray\n",
    "\n",
    "dataname = 'tur2a'\n",
    "img_size = 256\n",
    "\n",
    "gpu = True\n",
    "\n",
    "# load images\n",
    "#input_texture = Image.open('../images/' + input_name)\n",
    "if dataname == 'tur2a':\n",
    "    im_id = 0 # id of input in mat\n",
    "    data = sio.loadmat('../turbulence/ns_randn4_train_N' + str(img_size) + '.mat')\n",
    "    n_input_ch = 1\n",
    "    input_name = 'tur2a_im0'\n",
    "else:\n",
    "    assert(false)\n",
    "\n",
    "im = data['imgs'][:,:,im_id]\n",
    "vmin = np.quantile(im,0.01) # for plot\n",
    "vmax = np.quantile(im,0.99)\n",
    "im_ori = torch.tensor(im, dtype=torch.float).unsqueeze(0) # torch (1,h,w)\n",
    "if gpu:\n",
    "    im_ori = im_ori.cuda()\n",
    "print(im_ori.shape)\n",
    "\n",
    "input_texture = im_ori.contiguous() # -> torch (1,h,w)\n",
    "print('input_texture',input_texture.shape)\n",
    "\n",
    "prep_std = 1/np.std(im)\n",
    "print('prep_std',prep_std)\n",
    "def prep(x):\n",
    "    # x is in torch (1,h,w)\n",
    "    # xc in in torch (3,h,w)    \n",
    "#     xc = torch.cat((x,x,x),dim=0) # OR \n",
    "    xc = x.expand(3,img_size,img_size)\n",
    "    xc = xc / prep_std\n",
    "    xc = xc * 255.0\n",
    "    return xc\n",
    "    \n",
    "input_torch = prep(input_texture).unsqueeze(0) # torch (1,3,h,w)\n",
    "print('input_torch',input_torch.shape)\n",
    "if gpu == True:\n",
    "    input_torch = input_torch.cuda()\n",
    "\n",
    "# output dir\n",
    "root='./results_vgg_model_gray' + '_size' + str(img_size)\n",
    "#root='./results_vgg_model/'\n",
    "input_pdf_name = root+'/'+input_name\n",
    "input_im = input_texture[0,:,:].cpu().numpy() # (h,w)\n",
    "#save2mat_gray(input_pdf_name,input_im)\n",
    "save2pdf_gray(input_pdf_name,input_im,vmin=vmin,vmax=vmax)"
   ]
  },
  {
   "cell_type": "code",
   "execution_count": 9,
   "metadata": {},
   "outputs": [],
   "source": [
    "# VGG model\n",
    "vgg = VGG(pool='avg', pad=1)\n",
    "noramlized_model = torch.load('../vgg_color_caffe/Models/vgg_normalised.caffemodel.pt')\n",
    "# fix size of bias\n",
    "for key,value in noramlized_model.items():\n",
    "    if key.endswith('.bias'):\n",
    "        noramlized_model[key] = value.view(-1)\n",
    "vgg.load_state_dict(noramlized_model)\n",
    "for param in vgg.parameters():\n",
    "    param.requires_grad_(False) # param.requires_grad = False    \n",
    "\n",
    "if gpu == True:\n",
    "    vgg.cuda()\n",
    "\n",
    "loss_layers = ['p4', 'p3', 'p2', 'p1', 'r11']\n",
    "# w = [1e9,1e9,1e9,1e9,1e9]\n",
    "w = [1e1]* len(loss_layers)\n",
    "loss_fns = [GramMSELoss()] * len(loss_layers)\n",
    "if gpu == True:\n",
    "    loss_fns = [loss_fn.cuda() for loss_fn in loss_fns]\n",
    "\n",
    "outs = vgg(input_torch, loss_layers)\n",
    "target_gram_matrix = [GramMatrix()(f).detach() for f in outs]\n",
    "targets = target_gram_matrix"
   ]
  },
  {
   "cell_type": "code",
   "execution_count": 10,
   "metadata": {},
   "outputs": [
    {
     "data": {
      "application/vnd.jupyter.widget-view+json": {
       "model_id": "15a5528e4aad42b9a82dc37c4908ddfe",
       "version_major": 2,
       "version_minor": 0
      },
      "text/plain": [
       "HBox(children=(FloatProgress(value=0.0, max=2500.0), HTML(value='')))"
      ]
     },
     "metadata": {},
     "output_type": "display_data"
    },
    {
     "name": "stdout",
     "output_type": "stream",
     "text": [
      "OPT fini avec: 0.39872750639915466 2000 in 49.82521057128906 sec\n",
      "\n"
     ]
    }
   ],
   "source": [
    "# Init input image\n",
    "synth = torch.randn_like(input_texture) # (1,h,w)\n",
    "synth = synth.div(prep_std) # * std, estimated from input original image\n",
    "if gpu == True:\n",
    "    synth = synth.cuda()\n",
    "synth.requires_grad_(True)\n",
    "\n",
    "def do_synthesis(x,maxite,maxcor,gtol,ftol):\n",
    "    time0 = time()\n",
    "    maxeval = int(1.25*maxite)\n",
    "    optimizer = optim.LBFGS({x}, max_iter=maxite, max_eval=maxeval, line_search_fn='strong_wolfe',\\\n",
    "                            tolerance_grad = gtol, tolerance_change = ftol,\\\n",
    "                            history_size = maxcor)\n",
    "    \n",
    "    def closure():\n",
    "        optimizer.zero_grad()\n",
    "        #print('x',x.shape)\n",
    "        xc = prep(x).unsqueeze(0) # (1,h,w) to (1,3,h,w)\n",
    "        #print('xc',xc.shape)\n",
    "        out = vgg(xc, loss_layers)\n",
    "        losses = [w[a]*loss_fns[a](f, targets[a])/4.0 for a,f in enumerate(out)]\n",
    "        loss = sum(losses)\n",
    "        #print('loss',loss)\n",
    "        loss.backward()\n",
    "        pbar.update(1)\n",
    "        return loss\n",
    "    \n",
    "    pbar = tqdm(total = maxeval)\n",
    "    optimizer.step(closure)\n",
    "    opt_state = optimizer.state[optimizer._params[0]]\n",
    "    #print(opt_state)\n",
    "    niter = opt_state['n_iter']\n",
    "    final_loss = opt_state['prev_loss']\n",
    "    print('OPT fini avec:', final_loss, niter,'in',time()-time0,'sec')\n",
    "    \n",
    "    pbar.close()\n",
    "\n",
    "do_synthesis(synth,2000,20,0.0,0.0)"
   ]
  },
  {
   "cell_type": "code",
   "execution_count": 11,
   "metadata": {},
   "outputs": [
    {
     "name": "stdout",
     "output_type": "stream",
     "text": [
      "save to pdf file ./results_vgg_model_gray_size256/tur2a_im0_vgg_nohist\n"
     ]
    },
    {
     "data": {
      "image/png": "[encoded data removed]",
      "text/plain": [
       "<Figure size 72x72 with 1 Axes>"
      ]
     },
     "metadata": {
      "needs_background": "light"
     },
     "output_type": "display_data"
    }
   ],
   "source": [
    "# post-processing\n",
    "texture_synthesis = synth.detach() # .clone()\n",
    "texture_synthesis = texture_synthesis.cpu().squeeze() # (h,w)\n",
    "\n",
    "syn_pdf_name = root+'/'+input_name+'_vgg_nohist'\n",
    "syn_im = texture_synthesis.numpy()\n",
    "save2pdf_gray(syn_pdf_name,syn_im,vmin=vmin,vmax=vmax)\n"
   ]
  },
  {
   "cell_type": "code",
   "execution_count": null,
   "metadata": {},
   "outputs": [],
   "source": []
  },
  {
   "cell_type": "code",
   "execution_count": null,
   "metadata": {},
   "outputs": [],
   "source": []
  },
  {
   "cell_type": "code",
   "execution_count": null,
   "metadata": {},
   "outputs": [],
   "source": []
  },
  {
   "cell_type": "code",
   "execution_count": null,
   "metadata": {},
   "outputs": [],
   "source": []
  },
  {
   "cell_type": "code",
   "execution_count": null,
   "metadata": {},
   "outputs": [],
   "source": []
  },
  {
   "cell_type": "code",
   "execution_count": null,
   "metadata": {},
   "outputs": [],
   "source": []
  }
 ],
 "metadata": {
  "kernelspec": {
   "display_name": "Python [conda env:wph] *",
   "language": "python",
   "name": "conda-env-wph-py"
  },
  "language_info": {
   "codemirror_mode": {
    "name": "ipython",
    "version": 3
   },
   "file_extension": ".py",
   "mimetype": "text/x-python",
   "name": "python",
   "nbconvert_exporter": "python",
   "pygments_lexer": "ipython3",
   "version": "3.6.10"
  }
 },
 "nbformat": 4,
 "nbformat_minor": 5
}
